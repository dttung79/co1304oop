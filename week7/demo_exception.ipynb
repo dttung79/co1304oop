{
 "cells": [
  {
   "cell_type": "code",
   "execution_count": null,
   "id": "40640334",
   "metadata": {},
   "outputs": [],
   "source": [
    "n = int(input('Enter a number: '))\n",
    "print(n)"
   ]
  },
  {
   "cell_type": "code",
   "execution_count": 6,
   "id": "6b6fd525",
   "metadata": {},
   "outputs": [
    {
     "name": "stdout",
     "output_type": "stream",
     "text": [
      "Invalid number! Cannot convert to integer.\n"
     ]
    }
   ],
   "source": [
    "try:\n",
    "    n = int(input('Enter a number: '))\n",
    "    print(n)\n",
    "except ValueError:\n",
    "    print('Invalid number! Cannot convert to integer.')"
   ]
  },
  {
   "cell_type": "code",
   "execution_count": null,
   "id": "d5e26859",
   "metadata": {},
   "outputs": [],
   "source": [
    "a = [1, 2, 3]\n",
    "i = int(input('Enter an index: '))\n",
    "print(f'a[{i}] = {a[i]}')"
   ]
  },
  {
   "cell_type": "code",
   "execution_count": 11,
   "id": "9a293088",
   "metadata": {},
   "outputs": [
    {
     "name": "stdout",
     "output_type": "stream",
     "text": [
      "Invalid index. Valid index is from 0 to 3\n"
     ]
    }
   ],
   "source": [
    "try:\n",
    "    a = [1, 2, 3]\n",
    "    i = int(input('Enter an index: '))\n",
    "    print(f'a[{i}] = {a[i]}')\n",
    "except IndexError:\n",
    "    print(f'Invalid index. Valid index is from 0 to {len(a)}')"
   ]
  },
  {
   "cell_type": "code",
   "execution_count": 13,
   "id": "2ad5299f",
   "metadata": {},
   "outputs": [
    {
     "ename": "ZeroDivisionError",
     "evalue": "division by zero",
     "output_type": "error",
     "traceback": [
      "\u001b[0;31m---------------------------------------------------------------------------\u001b[0m",
      "\u001b[0;31mZeroDivisionError\u001b[0m                         Traceback (most recent call last)",
      "Cell \u001b[0;32mIn[13], line 3\u001b[0m\n\u001b[1;32m      1\u001b[0m a \u001b[38;5;241m=\u001b[39m \u001b[38;5;28mint\u001b[39m(\u001b[38;5;28minput\u001b[39m(\u001b[38;5;124m'\u001b[39m\u001b[38;5;124mEnter number a: \u001b[39m\u001b[38;5;124m'\u001b[39m))\n\u001b[1;32m      2\u001b[0m b \u001b[38;5;241m=\u001b[39m \u001b[38;5;28mint\u001b[39m(\u001b[38;5;28minput\u001b[39m(\u001b[38;5;124m'\u001b[39m\u001b[38;5;124mEnter number b: \u001b[39m\u001b[38;5;124m'\u001b[39m))\n\u001b[0;32m----> 3\u001b[0m c \u001b[38;5;241m=\u001b[39m \u001b[43ma\u001b[49m\u001b[43m \u001b[49m\u001b[38;5;241;43m/\u001b[39;49m\u001b[43m \u001b[49m\u001b[43mb\u001b[49m\n\u001b[1;32m      4\u001b[0m \u001b[38;5;28mprint\u001b[39m(\u001b[38;5;124mf\u001b[39m\u001b[38;5;124m'\u001b[39m\u001b[38;5;132;01m{\u001b[39;00ma\u001b[38;5;132;01m}\u001b[39;00m\u001b[38;5;124m / \u001b[39m\u001b[38;5;132;01m{\u001b[39;00mb\u001b[38;5;132;01m}\u001b[39;00m\u001b[38;5;124m = \u001b[39m\u001b[38;5;132;01m{\u001b[39;00mc\u001b[38;5;132;01m}\u001b[39;00m\u001b[38;5;124m'\u001b[39m)\n",
      "\u001b[0;31mZeroDivisionError\u001b[0m: division by zero"
     ]
    }
   ],
   "source": [
    "a = int(input('Enter number a: '))\n",
    "b = int(input('Enter number b: '))\n",
    "c = a / b\n",
    "print(f'{a} / {b} = {c}')"
   ]
  },
  {
   "cell_type": "code",
   "execution_count": 20,
   "id": "7a6d53bf",
   "metadata": {},
   "outputs": [
    {
     "name": "stdout",
     "output_type": "stream",
     "text": [
      "100 / 49 = 2.0408163265306123\n"
     ]
    }
   ],
   "source": [
    "try:\n",
    "    a = int(input('Enter number a: '))\n",
    "    b = int(input('Enter number b: '))\n",
    "    c = a / b\n",
    "    print(f'{a} / {b} = {c}')\n",
    "except ValueError:\n",
    "    print('Invalid input! Please enter integers only.')\n",
    "except ZeroDivisionError:\n",
    "    print('Error: Division by zero is not allowed.')"
   ]
  },
  {
   "cell_type": "code",
   "execution_count": null,
   "id": "2151f277",
   "metadata": {},
   "outputs": [],
   "source": [
    "f = open(input('Enter a file name: '), 'r')\n",
    "content = f.read()\n",
    "print(content)\n",
    "f.close()"
   ]
  },
  {
   "cell_type": "code",
   "execution_count": null,
   "id": "c066ca8b",
   "metadata": {},
   "outputs": [],
   "source": [
    "try:\n",
    "    f = open(input('Enter a file name: '), 'r')\n",
    "    content = f.read()\n",
    "    print(content)\n",
    "    f.close()\n",
    "except FileNotFoundError:\n",
    "    print('File not found! Please check the file name and try again.')"
   ]
  },
  {
   "cell_type": "code",
   "execution_count": 25,
   "id": "203a6585",
   "metadata": {},
   "outputs": [
    {
     "name": "stdout",
     "output_type": "stream",
     "text": [
      "Invalid number! Enter again.\n",
      "100\n"
     ]
    }
   ],
   "source": [
    "valid = False\n",
    "while not valid:\n",
    "    try:\n",
    "        n = int(input('Enter a number: '))\n",
    "        valid = True\n",
    "    except ValueError:\n",
    "        print('Invalid number! Enter again.')\n",
    "\n",
    "print(n)"
   ]
  },
  {
   "cell_type": "code",
   "execution_count": 26,
   "id": "eb9fd6df",
   "metadata": {},
   "outputs": [
    {
     "name": "stdout",
     "output_type": "stream",
     "text": [
      "File not found! Please check the file name and try again.\n",
      "Hello\n",
      "World\n"
     ]
    }
   ],
   "source": [
    "valid_filename = False\n",
    "while not valid_filename:\n",
    "    try:\n",
    "        f = open(input('Enter a file name: '), 'r')\n",
    "        content = f.read()\n",
    "        print(content)\n",
    "        f.close()\n",
    "        valid_filename = True\n",
    "    except FileNotFoundError:\n",
    "        print('File not found! Please check the file name and try again.')\n"
   ]
  }
 ],
 "metadata": {
  "kernelspec": {
   "display_name": "Python 3",
   "language": "python",
   "name": "python3"
  },
  "language_info": {
   "codemirror_mode": {
    "name": "ipython",
    "version": 3
   },
   "file_extension": ".py",
   "mimetype": "text/x-python",
   "name": "python",
   "nbconvert_exporter": "python",
   "pygments_lexer": "ipython3",
   "version": "3.13.2"
  }
 },
 "nbformat": 4,
 "nbformat_minor": 5
}

{
 "cells": [
  {
   "cell_type": "code",
   "execution_count": 1,
   "id": "5250d2ef",
   "metadata": {},
   "outputs": [],
   "source": [
    "class Student:\n",
    "    # constructor\n",
    "    def __init__(self, name, age):\n",
    "        # assign attributes\n",
    "        self.name = name # self.name is attribute, name is parameter\n",
    "        self.age = age   # self.age is attribute, age is parameter\n",
    "\n",
    "    # a method to say hi\n",
    "    def hi(self):\n",
    "        # self is the object itself, use it to access its attributes\n",
    "        print(f\"Hi, I'm {self.name} and I'm {self.age} years old.\")"
   ]
  },
  {
   "cell_type": "code",
   "execution_count": 2,
   "id": "49017e37",
   "metadata": {},
   "outputs": [
    {
     "name": "stdout",
     "output_type": "stream",
     "text": [
      "Hi, I'm John and I'm 20 years old.\n"
     ]
    }
   ],
   "source": [
    "# create an instance (object) of Student\n",
    "john = Student(\"John\", 20) # call constructor __init__ to create object\n",
    "# call the hi method on the object john\n",
    "john.hi() # prints: Hi, I'm John and I'm 20 years old."
   ]
  },
  {
   "cell_type": "code",
   "execution_count": 3,
   "id": "a52bf0df",
   "metadata": {},
   "outputs": [
    {
     "name": "stdout",
     "output_type": "stream",
     "text": [
      "John\n",
      "20\n"
     ]
    }
   ],
   "source": [
    "# access attributes directly\n",
    "print(john.name) # prints: John\n",
    "print(john.age)  # prints: 20"
   ]
  },
  {
   "cell_type": "code",
   "execution_count": 4,
   "id": "cd31d076",
   "metadata": {},
   "outputs": [
    {
     "name": "stdout",
     "output_type": "stream",
     "text": [
      "Hi, I'm Paul and I'm 22 years old.\n",
      "Paul\n",
      "22\n"
     ]
    }
   ],
   "source": [
    "paul = Student(\"Paul\", 22)\n",
    "paul.hi() # prints: Hi, I'm Paul and I'm 22 years old.\n",
    "print(paul.name) # prints: Paul\n",
    "print(paul.age)  # prints: 22"
   ]
  },
  {
   "cell_type": "code",
   "execution_count": 7,
   "id": "ffc79f6a",
   "metadata": {},
   "outputs": [],
   "source": [
    "class Teacher:\n",
    "    def __init__(self, name):\n",
    "        self.name = name    # assign attribute name to parameter name\n",
    "        self.subjects = []  # initialize subjects as an empty list\n",
    "\n",
    "    def add_subject(self, subject):\n",
    "        self.subjects.append(subject) # add subject to the subjects list\n",
    "\n",
    "    def hi(self):\n",
    "        print(f\"Hi, I'm teacher {self.name} and here are subjects that I teach:\")\n",
    "        if len(self.subjects) == 0:\n",
    "            print(\"- None\")\n",
    "            return\n",
    "        for s in self.subjects:\n",
    "            print(f\"- {s}\")"
   ]
  },
  {
   "cell_type": "code",
   "execution_count": 8,
   "id": "63925efb",
   "metadata": {},
   "outputs": [
    {
     "name": "stdout",
     "output_type": "stream",
     "text": [
      "Hi, I'm teacher Mike and here are subjects that I teach:\n",
      "- None\n"
     ]
    }
   ],
   "source": [
    "mike = Teacher(\"Mike\")\n",
    "mike.hi()"
   ]
  },
  {
   "cell_type": "code",
   "execution_count": 9,
   "id": "1b5f8bcc",
   "metadata": {},
   "outputs": [
    {
     "name": "stdout",
     "output_type": "stream",
     "text": [
      "Hi, I'm teacher Mike and here are subjects that I teach:\n",
      "- Math\n",
      "- Physics\n"
     ]
    }
   ],
   "source": [
    "mike.add_subject(\"Math\")\n",
    "mike.add_subject(\"Physics\")\n",
    "mike.hi()"
   ]
  },
  {
   "cell_type": "code",
   "execution_count": 10,
   "id": "398eb484",
   "metadata": {},
   "outputs": [],
   "source": [
    "class Fan:\n",
    "    def __init__(self):\n",
    "        self.speed = 0      # speed of the fan\n",
    "        self.swing_state = False # swing state, True (swinging) or False (still)\n",
    "        self.is_on = False # is the fan on or off\n",
    "\n",
    "    def turn_on(self):\n",
    "        # turn on the fan, set speed to 1 if it is off, swing_state to True, is_on to True\n",
    "        self.speed = 1\n",
    "        self.swing_state = True\n",
    "        self.is_on = True \n",
    "\n",
    "    def turn_off(self): \n",
    "        # turn off the fan, set speed to 0, swing_state to False\n",
    "        self.speed = 0\n",
    "        self.swing_state = False\n",
    "        self.is_on = False\n",
    "\n",
    "    def speed_up(self):\n",
    "        # increase speed by 1, max speed is 3\n",
    "        if self.speed < 3:\n",
    "            self.speed += 1\n",
    "\n",
    "    def speed_down(self):\n",
    "        # decrease speed by 1, min speed is 0\n",
    "        if self.speed > 0:\n",
    "            self.speed -= 1\n",
    "\n",
    "    def swing(self):\n",
    "        # toggle swing_state (True -> False or False -> True)\n",
    "        self.swing_state = not self.swing_state\n",
    "\n",
    "    def show(self):\n",
    "        if self.is_on:\n",
    "            if self.swing_state:\n",
    "                print(f\"Fan is ON, speed: {self.speed}, SWINGING\")\n",
    "            else:\n",
    "                print(f\"Fan is ON, speed: {self.speed}, NOT SWINGING\")\n",
    "        else:\n",
    "            print(\"Fan is OFF\")\n"
   ]
  },
  {
   "cell_type": "code",
   "execution_count": 12,
   "id": "4b0c04cc",
   "metadata": {},
   "outputs": [
    {
     "name": "stdout",
     "output_type": "stream",
     "text": [
      "Fan is ON, speed: 2, SWINGING\n",
      "Fan is ON, speed: 3, SWINGING\n",
      "Fan is ON, speed: 3, NOT SWINGING\n",
      "Fan is ON, speed: 3, NOT SWINGING\n",
      "Fan is OFF\n"
     ]
    }
   ],
   "source": [
    "# create a Fan object (it is off by default)\n",
    "fan = Fan()\n",
    "# turn on the fan \n",
    "fan.turn_on()\n",
    "# increase speed to 2 \n",
    "fan.speed_up()\n",
    "# show the fan status\n",
    "fan.show()\n",
    "# increase speed to 3\n",
    "fan.speed_up()\n",
    "# show the fan status\n",
    "fan.show()\n",
    "# toggle swing state\n",
    "fan.swing()\n",
    "# show the fan status\n",
    "fan.show()\n",
    "# increase speed (should stay at 3)\n",
    "fan.speed_up()\n",
    "# show the fan status\n",
    "fan.show()\n",
    "# turn off the fan\n",
    "fan.turn_off()\n",
    "# show the fan status\n",
    "fan.show()"
   ]
  },
  {
   "cell_type": "code",
   "execution_count": 13,
   "id": "093e1d25",
   "metadata": {},
   "outputs": [],
   "source": [
    "class Bulb:\n",
    "    def __init__(self, room):\n",
    "        self.room = room  # room where the bulb is located\n",
    "        self.state = False # bulb is off by default\n",
    "\n",
    "    def turn_on(self):\n",
    "        self.state = True # turn on the bulb\n",
    "\n",
    "    def turn_off(self):\n",
    "        self.state = False # turn off the bulb\n",
    "\n",
    "    def change_room(self, new_room):\n",
    "        self.room = new_room # change the room of the bulb\n",
    "\n",
    "    def show(self):\n",
    "        print(f'Bulb in {self.room} is ', end='')\n",
    "        if self.state == True:\n",
    "            print('ON')\n",
    "        else:\n",
    "            print('OFF')"
   ]
  },
  {
   "cell_type": "code",
   "execution_count": 14,
   "id": "dd9319e8",
   "metadata": {},
   "outputs": [
    {
     "name": "stdout",
     "output_type": "stream",
     "text": [
      "Bulb in Living Room is OFF\n",
      "Bulb in Living Room is ON\n",
      "Bulb in Bedroom is ON\n",
      "Bulb in Bedroom is OFF\n"
     ]
    }
   ],
   "source": [
    "b = Bulb(\"Living Room\")\n",
    "b.show() # prints: Bulb in Living Room is OFF\n",
    "b.turn_on()\n",
    "b.show() # prints: Bulb in Living Room is ON\n",
    "b.change_room(\"Bedroom\")\n",
    "b.show() # prints: Bulb in Bedroom is ON\n",
    "b.turn_off()\n",
    "b.show() # prints: Bulb in Bedroom is OFF"
   ]
  }
 ],
 "metadata": {
  "kernelspec": {
   "display_name": "Python 3",
   "language": "python",
   "name": "python3"
  },
  "language_info": {
   "codemirror_mode": {
    "name": "ipython",
    "version": 3
   },
   "file_extension": ".py",
   "mimetype": "text/x-python",
   "name": "python",
   "nbconvert_exporter": "python",
   "pygments_lexer": "ipython3",
   "version": "3.13.2"
  }
 },
 "nbformat": 4,
 "nbformat_minor": 5
}

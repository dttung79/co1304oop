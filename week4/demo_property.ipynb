{
 "cells": [
  {
   "cell_type": "code",
   "execution_count": 3,
   "id": "35eaa2e3",
   "metadata": {},
   "outputs": [],
   "source": [
    "# v3: class Person with private attributes and getter/setter methods\n",
    "class Person:\n",
    "    def __init__(self, name, age):\n",
    "        self.__name = name      # private attribute\n",
    "        self.__age = age        # private attribute\n",
    "    \n",
    "    def display(self):\n",
    "        print(f\"Name: {self.__name}, Age: {self.__age}\")\n",
    "    \n",
    "    # provide getter to allow reading access\n",
    "    @property\n",
    "    def name(self):\n",
    "        return self.__name\n",
    "\n",
    "    @property\n",
    "    def age(self):\n",
    "        return self.__age\n",
    "\n",
    "    # provide setter to allow writing access\n",
    "    @name.setter\n",
    "    def name(self, value):\n",
    "        if value == \"\":\n",
    "            print(\"Name cannot be empty\")\n",
    "        else:\n",
    "            self.__name = value\n",
    "\n",
    "    @age.setter\n",
    "    def age(self, value):\n",
    "        if value < 0:\n",
    "            print(\"Age cannot be negative\")\n",
    "        else:\n",
    "            self.__age = value"
   ]
  },
  {
   "cell_type": "code",
   "execution_count": 5,
   "id": "e25f61a5",
   "metadata": {},
   "outputs": [
    {
     "name": "stdout",
     "output_type": "stream",
     "text": [
      "John\n",
      "Age cannot be negative\n",
      "Name: John Doe, Age: 30\n"
     ]
    }
   ],
   "source": [
    "john = Person(\"John\", 30)\n",
    "print(john.name)  # looks like accessing public attribute but actually calls getter method\n",
    "john.name = \"John Doe\"  # looks like accessing public attribute but actually calls setter method\n",
    "john.age = -5  # should print error message\n",
    "john.display()"
   ]
  },
  {
   "cell_type": "code",
   "execution_count": 10,
   "id": "65f4b506",
   "metadata": {},
   "outputs": [],
   "source": [
    "class File:\n",
    "    def __init__(self, name, size):\n",
    "        self.__name = name\n",
    "        self.__size = size\n",
    "    \n",
    "    # TODO: provide getter/setter properties for name and size\n",
    "\n",
    "    @property\n",
    "    def name(self):\n",
    "        return self.__name\n",
    "\n",
    "    @property\n",
    "    def size(self):\n",
    "        return self.__size\n",
    "\n",
    "    @name.setter\n",
    "    def name(self, value):\n",
    "        if value == '':\n",
    "            print('Name cannot be empty!')\n",
    "            return\n",
    "\n",
    "        self.__name = value\n",
    "\n",
    "    @size.setter\n",
    "    def size(self, value):\n",
    "        if value < 0:\n",
    "            print('Size cannot be negative!')\n",
    "            return\n",
    "\n",
    "        self.__size = value\n",
    "\n",
    "    def __str__(self):\n",
    "        return f'{self.name}: {self.size} Kb'"
   ]
  },
  {
   "cell_type": "code",
   "execution_count": 13,
   "id": "e3161374",
   "metadata": {},
   "outputs": [
    {
     "name": "stdout",
     "output_type": "stream",
     "text": [
      "Home work: 200 Kb\n",
      "Home work: 500 Kb\n",
      "OOP Homework: 500 Kb\n"
     ]
    }
   ],
   "source": [
    "homework = File('Home work', 200)\n",
    "print(homework)\n",
    "\n",
    "homework.size = 500\n",
    "print(homework)\n",
    "\n",
    "homework.name = 'OOP Homework'\n",
    "print(homework)"
   ]
  },
  {
   "cell_type": "code",
   "execution_count": 18,
   "id": "5c39abe1",
   "metadata": {},
   "outputs": [],
   "source": [
    "class Folder:\n",
    "    def __init__(self, name):\n",
    "        self.__name = name\n",
    "        self.__files = []\n",
    "        self.__subfolders = []\n",
    "\n",
    "    @property\n",
    "    def name(self):\n",
    "        return self.__name\n",
    "\n",
    "    @name.setter\n",
    "    def name(self, value):\n",
    "        if value == '':\n",
    "            print('Folder name cannot be empty!')\n",
    "        else:\n",
    "            self.__name = value\n",
    "\n",
    "    def add_file(self, f):\n",
    "        self.__files.append(f)\n",
    "        print(f'File {f.name} added.')\n",
    "\n",
    "    def add_folder(self, f):\n",
    "        self.__subfolders.append(f)\n",
    "        print(f'Folder {f.name} added.')\n",
    "\n",
    "    def show(self):\n",
    "        print(f'{self.name}: {self.size} Kb')\n",
    "        # print files inside folder\n",
    "        for f in self.__files:\n",
    "            print(f' - {f}')\n",
    "        # print sub folders inside folder\n",
    "        for f in self.__subfolders:\n",
    "            f.show()\n",
    "\n",
    "    @property\n",
    "    def size(self):\n",
    "        total_size = 0\n",
    "        for f in self.__files:\n",
    "            total_size += f.size\n",
    "        \n",
    "        for f in self.__subfolders:\n",
    "            total_size += f.size\n",
    "\n",
    "        return total_size"
   ]
  },
  {
   "cell_type": "code",
   "execution_count": 19,
   "id": "287b9240",
   "metadata": {},
   "outputs": [
    {
     "name": "stdout",
     "output_type": "stream",
     "text": [
      "File hw1.py added.\n",
      "File hw2.py added.\n",
      "File notes.txt added.\n",
      "File guides.docx added.\n",
      "Folder Homework added.\n",
      "Documents: 786 Kb\n",
      " - notes.txt: 250 Kb\n",
      " - guides.docx: 501 Kb\n",
      "Homework: 35 Kb\n",
      " - hw1.py: 10 Kb\n",
      " - hw2.py: 25 Kb\n"
     ]
    }
   ],
   "source": [
    "notes = File('notes.txt', 250)\n",
    "guides = File('guides.docx', 501)\n",
    "hw1 = File('hw1.py', 10)\n",
    "hw2 = File('hw2.py', 25)\n",
    "\n",
    "homework = Folder('Homework')\n",
    "homework.add_file(hw1)\n",
    "homework.add_file(hw2)\n",
    "\n",
    "documents = Folder('Documents')\n",
    "documents.add_file(notes)\n",
    "documents.add_file(guides)\n",
    "documents.add_folder(homework)\n",
    "\n",
    "documents.show()"
   ]
  },
  {
   "cell_type": "code",
   "execution_count": 20,
   "id": "4a2c58b1",
   "metadata": {},
   "outputs": [],
   "source": [
    "class Employee:\n",
    "    def __init__(self, name, salary):\n",
    "        self.__name = name\n",
    "        self.__salary = salary\n",
    "\n",
    "    @property\n",
    "    def name(self):\n",
    "        return self.__name\n",
    "\n",
    "    @name.setter\n",
    "    def name(self, value):\n",
    "        self.__name = value # skip validation\n",
    "\n",
    "    @property\n",
    "    def salary(self):\n",
    "        return self.__salary\n",
    "\n",
    "    @salary.setter\n",
    "    def salary(self, value):\n",
    "        self.__salary = value\n",
    "\n",
    "    def __str__(self):\n",
    "        return f'Name: {self.name}, salary: ${self.salary}'"
   ]
  },
  {
   "cell_type": "code",
   "execution_count": 21,
   "id": "36448a6e",
   "metadata": {},
   "outputs": [
    {
     "name": "stdout",
     "output_type": "stream",
     "text": [
      "Name: John, salary: $1000\n",
      "Name: Paul, salary: $1500\n",
      "Name: John, salary: $1800\n"
     ]
    }
   ],
   "source": [
    "john = Employee('John', 1000)\n",
    "paul = Employee('Paul', 1500)\n",
    "print(john)\n",
    "print(paul)\n",
    "\n",
    "john.salary = 1800\n",
    "print(john)"
   ]
  },
  {
   "cell_type": "code",
   "execution_count": 22,
   "id": "f7273cdd",
   "metadata": {},
   "outputs": [],
   "source": [
    "class Department:\n",
    "    def __init__(self, name, head):\n",
    "        self.__name = name\n",
    "        self.__head = head\n",
    "        self.__employees = []\n",
    "\n",
    "    @property\n",
    "    def name(self):\n",
    "        return self.__name\n",
    "\n",
    "    @name.setter\n",
    "    def name(self, value):\n",
    "        self.__name = value\n",
    "\n",
    "    @property\n",
    "    def head(self):\n",
    "        return self.__head.name # don't return the whole object, just return its name\n",
    "\n",
    "    def change_head(self, head):\n",
    "        self.__head = head\n",
    "        print(f'New head of department: {head.name}')\n",
    "\n",
    "    def add_employee(self, e):\n",
    "        self.__employees.append(e)\n",
    "        print(f'New employee {e.name} added.')\n",
    "\n",
    "    def total_salary(self):\n",
    "        total = 0\n",
    "        for e in self.__employees:\n",
    "            total += e.salary\n",
    "        total += self.__head.salary\n",
    "        \n",
    "        return total\n",
    "\n",
    "    def show(self):\n",
    "        print(f'Department: {self.name}')\n",
    "        print(f'Head of Department: {self.head}')\n",
    "        print(f'List of Employees: ')\n",
    "        for e in self.__employees:\n",
    "            print(e)\n",
    "\n",
    "        print(f'Total salary in department: ${self.total_salary()}')"
   ]
  },
  {
   "cell_type": "code",
   "execution_count": 23,
   "id": "f4006e44",
   "metadata": {},
   "outputs": [
    {
     "name": "stdout",
     "output_type": "stream",
     "text": [
      "New employee John added.\n",
      "New employee Paul added.\n",
      "Department: Develop Dept\n",
      "Head of Department: Mike\n",
      "List of Employees: \n",
      "Name: John, salary: $1800\n",
      "Name: Paul, salary: $1500\n",
      "Total salary in department: $8300\n"
     ]
    }
   ],
   "source": [
    "mike = Employee('Mike', 5000)\n",
    "dev_dept = Department('Develop Dept', mike)\n",
    "dev_dept.add_employee(john)\n",
    "dev_dept.add_employee(paul)\n",
    "\n",
    "dev_dept.show()"
   ]
  }
 ],
 "metadata": {
  "kernelspec": {
   "display_name": "Python 3",
   "language": "python",
   "name": "python3"
  },
  "language_info": {
   "codemirror_mode": {
    "name": "ipython",
    "version": 3
   },
   "file_extension": ".py",
   "mimetype": "text/x-python",
   "name": "python",
   "nbconvert_exporter": "python",
   "pygments_lexer": "ipython3",
   "version": "3.13.2"
  }
 },
 "nbformat": 4,
 "nbformat_minor": 5
}

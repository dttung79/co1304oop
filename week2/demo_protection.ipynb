{
 "cells": [
  {
   "cell_type": "code",
   "execution_count": 2,
   "id": "45edb5c1",
   "metadata": {},
   "outputs": [],
   "source": [
    "# v1: class Person with public attributes\n",
    "class Person:\n",
    "    def __init__(self, name, age):\n",
    "        self.name = name\n",
    "        self.age = age\n",
    "    \n",
    "    def display(self):\n",
    "        print(f\"Name: {self.name}, Age: {self.age}\")"
   ]
  },
  {
   "cell_type": "code",
   "execution_count": null,
   "id": "92242fd6",
   "metadata": {},
   "outputs": [
    {
     "name": "stdout",
     "output_type": "stream",
     "text": [
      "Name: John, Age: 30\n",
      "John\n",
      "31\n"
     ]
    }
   ],
   "source": [
    "john = Person(\"John\", 30)\n",
    "john.display()  # Output: Name: John, Age: 30\n",
    "\n",
    "# accessing public attributes directly from outside the class\n",
    "print(john.name)  # reading name attribute\n",
    "john.age = 31    # writing age attribute\n",
    "print(john.age)   # reading age attribute to verify the change"
   ]
  },
  {
   "cell_type": "code",
   "execution_count": 5,
   "id": "f136d435",
   "metadata": {},
   "outputs": [
    {
     "name": "stdout",
     "output_type": "stream",
     "text": [
      "Name: , Age: -5\n"
     ]
    }
   ],
   "source": [
    "john.name = \"\" # name is public, so it can be set to an invalid value\n",
    "john.age = -5  # age is public, so it can be set to an invalid\n",
    "john.display()  # Output: Name: , Age: -5"
   ]
  },
  {
   "cell_type": "code",
   "execution_count": 7,
   "id": "b8d3dc3b",
   "metadata": {},
   "outputs": [],
   "source": [
    "# v2: class Person with private attributes\n",
    "class Person:\n",
    "    def __init__(self, name, age):\n",
    "        self.__name = name      # private attribute\n",
    "        self.__age = age        # private attribute\n",
    "    \n",
    "    def display(self):\n",
    "        print(f\"Name: {self.__name}, Age: {self.__age}\")"
   ]
  },
  {
   "cell_type": "code",
   "execution_count": null,
   "id": "908a65b1",
   "metadata": {},
   "outputs": [
    {
     "name": "stdout",
     "output_type": "stream",
     "text": [
      "Name: John, Age: 30\n"
     ]
    },
    {
     "ename": "AttributeError",
     "evalue": "'Person' object has no attribute '__name'",
     "output_type": "error",
     "traceback": [
      "\u001b[0;31m---------------------------------------------------------------------------\u001b[0m",
      "\u001b[0;31mAttributeError\u001b[0m                            Traceback (most recent call last)",
      "Cell \u001b[0;32mIn[8], line 4\u001b[0m\n\u001b[1;32m      1\u001b[0m john \u001b[38;5;241m=\u001b[39m Person(\u001b[38;5;124m\"\u001b[39m\u001b[38;5;124mJohn\u001b[39m\u001b[38;5;124m\"\u001b[39m, \u001b[38;5;241m30\u001b[39m)\n\u001b[1;32m      2\u001b[0m john\u001b[38;5;241m.\u001b[39mdisplay()  \u001b[38;5;66;03m# Output: Name: John, Age: 30\u001b[39;00m\n\u001b[0;32m----> 4\u001b[0m \u001b[38;5;28mprint\u001b[39m(\u001b[43mjohn\u001b[49m\u001b[38;5;241;43m.\u001b[39;49m\u001b[43m__name\u001b[49m)  \u001b[38;5;66;03m# AttributeError: 'Person' object has no attribute '__name'\u001b[39;00m\n",
      "\u001b[0;31mAttributeError\u001b[0m: 'Person' object has no attribute '__name'"
     ]
    }
   ],
   "source": [
    "john = Person(\"John\", 30)\n",
    "john.display()  # Output: Name: John, Age: 30\n",
    "\n",
    "print(john.__name)  # error because __name is private"
   ]
  },
  {
   "cell_type": "code",
   "execution_count": 11,
   "id": "0782a14f",
   "metadata": {},
   "outputs": [
    {
     "name": "stdout",
     "output_type": "stream",
     "text": [
      "Name: John, Age: 30\n"
     ]
    }
   ],
   "source": [
    "john.__age = -5\n",
    "john.display()  # Output: Name: John, Age: 30 (still unchanged)"
   ]
  },
  {
   "cell_type": "code",
   "execution_count": 12,
   "id": "6f8ce10d",
   "metadata": {},
   "outputs": [
    {
     "name": "stdout",
     "output_type": "stream",
     "text": [
      "Name: John, Age: 30\n"
     ]
    }
   ],
   "source": [
    "john.__name = \"\"\n",
    "john.display()  # Output: Name: John, Age: 30 (still unchanged)"
   ]
  },
  {
   "cell_type": "code",
   "execution_count": 13,
   "id": "ce48150f",
   "metadata": {},
   "outputs": [],
   "source": [
    "# v3: class Person with private attributes and getter/setter methods\n",
    "class Person:\n",
    "    def __init__(self, name, age):\n",
    "        self.__name = name      # private attribute\n",
    "        self.__age = age        # private attribute\n",
    "    \n",
    "    def display(self):\n",
    "        print(f\"Name: {self.__name}, Age: {self.__age}\")\n",
    "    \n",
    "    # provide getter to allow reading access\n",
    "    def get_name(self):\n",
    "        return self.__name\n",
    "\n",
    "    def get_age(self):\n",
    "        return self.__age\n",
    "\n",
    "    # provide setter to allow writing access\n",
    "    def set_name(self, value):\n",
    "        if value == \"\":\n",
    "            print(\"Name cannot be empty\")\n",
    "        else:\n",
    "            self.__name = value\n",
    "\n",
    "    def set_age(self, value):\n",
    "        if value < 0:\n",
    "            print(\"Age cannot be negative\")\n",
    "        else:\n",
    "            self.__age = value"
   ]
  },
  {
   "cell_type": "code",
   "execution_count": 14,
   "id": "27ab9edc",
   "metadata": {},
   "outputs": [
    {
     "name": "stdout",
     "output_type": "stream",
     "text": [
      "Name: John, Age: 20\n"
     ]
    }
   ],
   "source": [
    "john = Person(\"John\", 20)\n",
    "john.display()"
   ]
  },
  {
   "cell_type": "code",
   "execution_count": 15,
   "id": "f5341f24",
   "metadata": {},
   "outputs": [
    {
     "name": "stdout",
     "output_type": "stream",
     "text": [
      "John\n",
      "20\n"
     ]
    }
   ],
   "source": [
    "print(john.get_name())   # call get_name method\n",
    "print(john.get_age())    # call get_age method"
   ]
  },
  {
   "cell_type": "code",
   "execution_count": 17,
   "id": "ac5ab784",
   "metadata": {},
   "outputs": [
    {
     "name": "stdout",
     "output_type": "stream",
     "text": [
      "Name: Johnny, Age: 18\n"
     ]
    }
   ],
   "source": [
    "john.set_name(\"Johnny\")\n",
    "john.set_age(18)\n",
    "john.display()"
   ]
  },
  {
   "cell_type": "code",
   "execution_count": 18,
   "id": "a2e53dad",
   "metadata": {},
   "outputs": [
    {
     "name": "stdout",
     "output_type": "stream",
     "text": [
      "Name cannot be empty\n",
      "Age cannot be negative\n",
      "Name: Johnny, Age: 18\n"
     ]
    }
   ],
   "source": [
    "john.set_name(\"\")\n",
    "john.set_age(-10)\n",
    "john.display()"
   ]
  }
 ],
 "metadata": {
  "kernelspec": {
   "display_name": "Python 3",
   "language": "python",
   "name": "python3"
  },
  "language_info": {
   "codemirror_mode": {
    "name": "ipython",
    "version": 3
   },
   "file_extension": ".py",
   "mimetype": "text/x-python",
   "name": "python",
   "nbconvert_exporter": "python",
   "pygments_lexer": "ipython3",
   "version": "3.13.2"
  }
 },
 "nbformat": 4,
 "nbformat_minor": 5
}

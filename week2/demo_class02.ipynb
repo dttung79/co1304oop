{
 "cells": [
  {
   "cell_type": "code",
   "execution_count": 1,
   "id": "7af1478a",
   "metadata": {},
   "outputs": [],
   "source": [
    "class Student:\n",
    "    # constructor\n",
    "    def __init__(self, name, age):\n",
    "        # assign attributes\n",
    "        self.name = name # self.name is attribute, name is parameter\n",
    "        self.age = age   # self.age is attribute, age is parameter\n",
    "\n",
    "    # a method to say hi\n",
    "    def hi(self):\n",
    "        # self is the object itself, use it to access its attributes\n",
    "        print(f\"Hi, I'm {self.name} and I'm {self.age} years old.\")"
   ]
  },
  {
   "cell_type": "code",
   "execution_count": 2,
   "id": "298c92dc",
   "metadata": {},
   "outputs": [],
   "source": [
    "class ClassRoom:\n",
    "    def __init__(self, name):\n",
    "        self.name = name\n",
    "        self.students = []  # initialize an empty list to hold students\n",
    "    \n",
    "    def add(self, student):\n",
    "        self.students.append(student)  # add a student to the list\n",
    "        print(f\"Added {student.name} to {self.name} class.\")\n",
    "    \n",
    "    def show(self):\n",
    "        print(f\"Class {self.name} has the following students:\")\n",
    "        for s in self.students:\n",
    "            s.hi()  # call the hi method of each student"
   ]
  },
  {
   "cell_type": "code",
   "execution_count": 3,
   "id": "15df5179",
   "metadata": {},
   "outputs": [
    {
     "name": "stdout",
     "output_type": "stream",
     "text": [
      "Added John to CO1304 class.\n",
      "Added Paul to CO1304 class.\n",
      "Added Mike to CO1304 class.\n",
      "Class CO1304 has the following students:\n",
      "Hi, I'm John and I'm 20 years old.\n",
      "Hi, I'm Paul and I'm 22 years old.\n",
      "Hi, I'm Mike and I'm 21 years old.\n"
     ]
    }
   ],
   "source": [
    "john = Student(\"John\", 20)\n",
    "paul = Student(\"Paul\", 22)\n",
    "mike = Student(\"Mike\", 21)\n",
    "\n",
    "co1304 = ClassRoom(\"CO1304\")\n",
    "co1304.add(john)\n",
    "co1304.add(paul)\n",
    "co1304.add(mike)\n",
    "\n",
    "co1304.show() # inside show, co1304 will tell each student to say hi"
   ]
  }
 ],
 "metadata": {
  "kernelspec": {
   "display_name": "Python 3",
   "language": "python",
   "name": "python3"
  },
  "language_info": {
   "codemirror_mode": {
    "name": "ipython",
    "version": 3
   },
   "file_extension": ".py",
   "mimetype": "text/x-python",
   "name": "python",
   "nbconvert_exporter": "python",
   "pygments_lexer": "ipython3",
   "version": "3.13.2"
  }
 },
 "nbformat": 4,
 "nbformat_minor": 5
}

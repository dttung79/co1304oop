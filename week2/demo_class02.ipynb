{
 "cells": [
  {
   "cell_type": "code",
   "execution_count": 1,
   "id": "7af1478a",
   "metadata": {},
   "outputs": [],
   "source": [
    "class Student:\n",
    "    # constructor\n",
    "    def __init__(self, name, age):\n",
    "        # assign attributes\n",
    "        self.name = name # self.name is attribute, name is parameter\n",
    "        self.age = age   # self.age is attribute, age is parameter\n",
    "\n",
    "    # a method to say hi\n",
    "    def hi(self):\n",
    "        # self is the object itself, use it to access its attributes\n",
    "        print(f\"Hi, I'm {self.name} and I'm {self.age} years old.\")"
   ]
  },
  {
   "cell_type": "code",
   "execution_count": 2,
   "id": "298c92dc",
   "metadata": {},
   "outputs": [],
   "source": [
    "class ClassRoom:\n",
    "    def __init__(self, name):\n",
    "        self.name = name\n",
    "        self.students = []  # initialize an empty list to hold students\n",
    "    \n",
    "    def add(self, student):\n",
    "        self.students.append(student)  # add a student to the list\n",
    "        print(f\"Added {student.name} to {self.name} class.\")\n",
    "    \n",
    "    def show(self):\n",
    "        print(f\"Class {self.name} has the following students:\")\n",
    "        for s in self.students:\n",
    "            s.hi()  # call the hi method of each student"
   ]
  },
  {
   "cell_type": "code",
   "execution_count": 3,
   "id": "15df5179",
   "metadata": {},
   "outputs": [
    {
     "name": "stdout",
     "output_type": "stream",
     "text": [
      "Added John to CO1304 class.\n",
      "Added Paul to CO1304 class.\n",
      "Added Mike to CO1304 class.\n",
      "Class CO1304 has the following students:\n",
      "Hi, I'm John and I'm 20 years old.\n",
      "Hi, I'm Paul and I'm 22 years old.\n",
      "Hi, I'm Mike and I'm 21 years old.\n"
     ]
    }
   ],
   "source": [
    "john = Student(\"John\", 20)\n",
    "paul = Student(\"Paul\", 22)\n",
    "mike = Student(\"Mike\", 21)\n",
    "\n",
    "co1304 = ClassRoom(\"CO1304\")\n",
    "co1304.add(john)\n",
    "co1304.add(paul)\n",
    "co1304.add(mike)\n",
    "\n",
    "co1304.show() # inside show, co1304 will tell each student to say hi"
   ]
  },
  {
   "cell_type": "code",
   "execution_count": 1,
   "id": "c9607a6f",
   "metadata": {},
   "outputs": [],
   "source": [
    "class Television:\n",
    "    def __init__(self):\n",
    "        self.status = False\n",
    "        self.volume = 0\n",
    "        self.channels = {1: \"HBO\", 2: \"CNN\", 3: \"BBC\", 4: \"Discovery\", 5: \"Star Sports\"}\n",
    "\n",
    "    # TODO: implement turn_on, turn_off, volume_up, volume_down, play methods\n",
    "    def turn_on(self):\n",
    "        self.status = True\n",
    "        self.volume = 5     # default volume\n",
    "        channel = 1      # default channel  \n",
    "\n",
    "        self.play(channel)\n",
    "        print(f\"Volume: {self.volume}\")\n",
    "\n",
    "    def turn_off(self):\n",
    "        self.status = False\n",
    "        print(\"TV is turned off.\")\n",
    "\n",
    "    def volume_up(self):\n",
    "        if self.status == False:\n",
    "            print(\"TV is off. Please turn it on first.\")\n",
    "            return\n",
    "        \n",
    "        if self.volume == 10:\n",
    "            print(\"Volume is at maximum.\")\n",
    "            return\n",
    "        \n",
    "        self.volume += 1\n",
    "        print(f\"Volume: {self.volume}\")\n",
    "\n",
    "    def volume_down(self):\n",
    "        if self.status == False:\n",
    "            print(\"TV is off. Please turn it on first.\")\n",
    "            return\n",
    "        \n",
    "        if self.volume == 0:\n",
    "            print(\"Volume is at minimum.\")\n",
    "            return\n",
    "        \n",
    "        self.volume -= 1\n",
    "        print(f\"Volume: {self.volume}\")\n",
    "\n",
    "    def play(self, channel):\n",
    "        if self.status == False:\n",
    "            print(\"TV is off. Please turn it on first.\")\n",
    "            return\n",
    "        \n",
    "        # check if channel exists\n",
    "        if channel not in self.channels:\n",
    "            print(\"Channel does not exist.\")\n",
    "            return\n",
    "        \n",
    "        print(f\"Playing {self.channels[channel]}\")\n"
   ]
  },
  {
   "cell_type": "code",
   "execution_count": 2,
   "id": "8cdaff9a",
   "metadata": {},
   "outputs": [
    {
     "name": "stdout",
     "output_type": "stream",
     "text": [
      "TV is off. Please turn it on first.\n",
      "Playing HBO\n",
      "Volume: 5\n",
      "Volume: 6\n",
      "Volume: 7\n",
      "Volume: 8\n",
      "Volume: 9\n",
      "Volume: 10\n",
      "Volume is at maximum.\n",
      "Volume: 9\n",
      "Playing BBC\n",
      "Channel does not exist.\n",
      "TV is turned off.\n",
      "TV is off. Please turn it on first.\n"
     ]
    }
   ],
   "source": [
    "mytv = Television()\n",
    "mytv.play(1)  # TV is off. Please turn it on first.\n",
    "mytv.turn_on() # Playing HBO, Volume: 5\n",
    "mytv.volume_up() # Volume: 6\n",
    "mytv.volume_up() # Volume: 7\n",
    "mytv.volume_up() # Volume: 8\n",
    "mytv.volume_up() # Volume: 9\n",
    "mytv.volume_up() # Volume: 10\n",
    "mytv.volume_up() # Volume is at maximum.\n",
    "mytv.volume_down() # Volume: 9\n",
    "mytv.play(3) # Playing BBC\n",
    "mytv.play(10) # Channel does not exist.\n",
    "mytv.turn_off() # TV is turned off.\n",
    "mytv.volume_down() # TV is off. Please turn it on first."
   ]
  },
  {
   "cell_type": "code",
   "execution_count": 3,
   "id": "86732b2b",
   "metadata": {},
   "outputs": [],
   "source": [
    "class RemoteControl:\n",
    "    def __init__(self, tv):\n",
    "        self.tv = tv\n",
    "\n",
    "    def on_off(self):\n",
    "        if self.tv.status:      # if TV is on\n",
    "            self.tv.turn_off()  # then turn it off\n",
    "        else:                   # else turn it on\n",
    "            self.tv.turn_on()\n",
    "\n",
    "    def volume_up(self):\n",
    "        self.tv.volume_up()\n",
    "\n",
    "    def volume_down(self):\n",
    "        self.tv.volume_down()\n",
    "\n",
    "    def set_channel(self, channel):\n",
    "        self.tv.play(channel)"
   ]
  },
  {
   "cell_type": "code",
   "execution_count": 4,
   "id": "927458ee",
   "metadata": {},
   "outputs": [
    {
     "name": "stdout",
     "output_type": "stream",
     "text": [
      "Playing HBO\n",
      "Volume: 5\n",
      "Volume: 6\n",
      "Volume: 5\n",
      "Volume: 4\n",
      "Playing CNN\n",
      "Channel does not exist.\n",
      "TV is turned off.\n",
      "TV is off. Please turn it on first.\n"
     ]
    }
   ],
   "source": [
    "rc = RemoteControl(mytv)\n",
    "rc.on_off()      # turn on the TV\n",
    "rc.volume_up()   # Volume: 6\n",
    "rc.volume_down() # Volume: 5\n",
    "rc.volume_down() # Volume: 4\n",
    "rc.set_channel(2) # Playing CNN\n",
    "rc.set_channel(10) # Channel does not exist.\n",
    "rc.on_off()      # turn off the TV\n",
    "rc.volume_up()   # TV is off. Please turn it on first."
   ]
  }
 ],
 "metadata": {
  "kernelspec": {
   "display_name": "Python 3",
   "language": "python",
   "name": "python3"
  },
  "language_info": {
   "codemirror_mode": {
    "name": "ipython",
    "version": 3
   },
   "file_extension": ".py",
   "mimetype": "text/x-python",
   "name": "python",
   "nbconvert_exporter": "python",
   "pygments_lexer": "ipython3",
   "version": "3.13.2"
  }
 },
 "nbformat": 4,
 "nbformat_minor": 5
}
